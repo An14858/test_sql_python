{
 "cells": [
  {
   "cell_type": "markdown",
   "id": "47cb893b",
   "metadata": {},
   "source": [
    "###  1 Задание (python). Получить все \"связанные данные\""
   ]
  },
  {
   "cell_type": "code",
   "execution_count": null,
   "id": "db402236",
   "metadata": {},
   "outputs": [],
   "source": [
    "import pandas as pd  \n",
    "import numpy as np "
   ]
  },
  {
   "cell_type": "code",
   "execution_count": 8,
   "id": "f3225d10",
   "metadata": {
    "scrolled": false
   },
   "outputs": [
    {
     "data": {
      "text/html": [
       "<div>\n",
       "<style scoped>\n",
       "    .dataframe tbody tr th:only-of-type {\n",
       "        vertical-align: middle;\n",
       "    }\n",
       "\n",
       "    .dataframe tbody tr th {\n",
       "        vertical-align: top;\n",
       "    }\n",
       "\n",
       "    .dataframe thead th {\n",
       "        text-align: right;\n",
       "    }\n",
       "</style>\n",
       "<table border=\"1\" class=\"dataframe\">\n",
       "  <thead>\n",
       "    <tr style=\"text-align: right;\">\n",
       "      <th></th>\n",
       "      <th>key</th>\n",
       "      <th>id</th>\n",
       "      <th>phone</th>\n",
       "      <th>mail</th>\n",
       "    </tr>\n",
       "  </thead>\n",
       "  <tbody>\n",
       "    <tr>\n",
       "      <th>0</th>\n",
       "      <td>1</td>\n",
       "      <td>12345</td>\n",
       "      <td>89997776655</td>\n",
       "      <td>test@mail.ru</td>\n",
       "    </tr>\n",
       "    <tr>\n",
       "      <th>1</th>\n",
       "      <td>2</td>\n",
       "      <td>54321</td>\n",
       "      <td>87778885566</td>\n",
       "      <td>two@mail.ru</td>\n",
       "    </tr>\n",
       "    <tr>\n",
       "      <th>2</th>\n",
       "      <td>3</td>\n",
       "      <td>98765</td>\n",
       "      <td>87776664577</td>\n",
       "      <td>three@mail.ru</td>\n",
       "    </tr>\n",
       "    <tr>\n",
       "      <th>3</th>\n",
       "      <td>4</td>\n",
       "      <td>66678</td>\n",
       "      <td>87778885566</td>\n",
       "      <td>four@mail.ru</td>\n",
       "    </tr>\n",
       "    <tr>\n",
       "      <th>4</th>\n",
       "      <td>5</td>\n",
       "      <td>34567</td>\n",
       "      <td>84547895566</td>\n",
       "      <td>four@mail.ru</td>\n",
       "    </tr>\n",
       "    <tr>\n",
       "      <th>5</th>\n",
       "      <td>6</td>\n",
       "      <td>34567</td>\n",
       "      <td>89087545678</td>\n",
       "      <td>five@mail.ru</td>\n",
       "    </tr>\n",
       "  </tbody>\n",
       "</table>\n",
       "</div>"
      ],
      "text/plain": [
       "   key     id        phone           mail\n",
       "0    1  12345  89997776655   test@mail.ru\n",
       "1    2  54321  87778885566    two@mail.ru\n",
       "2    3  98765  87776664577  three@mail.ru\n",
       "3    4  66678  87778885566   four@mail.ru\n",
       "4    5  34567  84547895566   four@mail.ru\n",
       "5    6  34567  89087545678   five@mail.ru"
      ]
     },
     "execution_count": 8,
     "metadata": {},
     "output_type": "execute_result"
    }
   ],
   "source": [
    "data = {'key':[1, 2, 3, 4, 5, 6],\n",
    "        'id':[12345, 54321, 98765, 66678, 34567, 34567],\n",
    "        'phone':['89997776655', '87778885566', '87776664577', '87778885566', '84547895566', '89087545678'],\n",
    "        'mail':['test@mail.ru', 'two@mail.ru', 'three@mail.ru', 'four@mail.ru', 'four@mail.ru', 'five@mail.ru']\n",
    "       }\n",
    "\n",
    "df = pd.DataFrame(data)\n",
    "df"
   ]
  },
  {
   "cell_type": "code",
   "execution_count": 9,
   "id": "664a0ec0",
   "metadata": {},
   "outputs": [
    {
     "data": {
      "text/html": [
       "<div>\n",
       "<style scoped>\n",
       "    .dataframe tbody tr th:only-of-type {\n",
       "        vertical-align: middle;\n",
       "    }\n",
       "\n",
       "    .dataframe tbody tr th {\n",
       "        vertical-align: top;\n",
       "    }\n",
       "\n",
       "    .dataframe thead th {\n",
       "        text-align: right;\n",
       "    }\n",
       "</style>\n",
       "<table border=\"1\" class=\"dataframe\">\n",
       "  <thead>\n",
       "    <tr style=\"text-align: right;\">\n",
       "      <th></th>\n",
       "      <th>key</th>\n",
       "      <th>id</th>\n",
       "      <th>phone</th>\n",
       "      <th>mail</th>\n",
       "    </tr>\n",
       "  </thead>\n",
       "  <tbody>\n",
       "    <tr>\n",
       "      <th>1</th>\n",
       "      <td>2</td>\n",
       "      <td>54321</td>\n",
       "      <td>87778885566</td>\n",
       "      <td>two@mail.ru</td>\n",
       "    </tr>\n",
       "    <tr>\n",
       "      <th>3</th>\n",
       "      <td>4</td>\n",
       "      <td>66678</td>\n",
       "      <td>87778885566</td>\n",
       "      <td>four@mail.ru</td>\n",
       "    </tr>\n",
       "    <tr>\n",
       "      <th>4</th>\n",
       "      <td>5</td>\n",
       "      <td>34567</td>\n",
       "      <td>84547895566</td>\n",
       "      <td>four@mail.ru</td>\n",
       "    </tr>\n",
       "    <tr>\n",
       "      <th>5</th>\n",
       "      <td>6</td>\n",
       "      <td>34567</td>\n",
       "      <td>89087545678</td>\n",
       "      <td>five@mail.ru</td>\n",
       "    </tr>\n",
       "  </tbody>\n",
       "</table>\n",
       "</div>"
      ],
      "text/plain": [
       "  key     id        phone          mail\n",
       "1   2  54321  87778885566   two@mail.ru\n",
       "3   4  66678  87778885566  four@mail.ru\n",
       "4   5  34567  84547895566  four@mail.ru\n",
       "5   6  34567  89087545678  five@mail.ru"
      ]
     },
     "execution_count": 9,
     "metadata": {},
     "output_type": "execute_result"
    }
   ],
   "source": [
    "def relation(data, values):\n",
    "    d = data.apply(lambda x: x.isin(values.ravel()))\n",
    "    values1 = data.iloc[np.unique(np.where(d)[0]),:]\n",
    "    if set(np.array(values)) == set(values1.to_numpy().ravel()):\n",
    "        return values1\n",
    "    else:\n",
    "        return relation(data, values1.to_numpy().ravel())\n",
    "\n",
    "relation(df.astype(str), np.array(['87778885566']))"
   ]
  }
 ],
 "metadata": {
  "kernelspec": {
   "display_name": "Python 3 (ipykernel)",
   "language": "python",
   "name": "python3"
  },
  "language_info": {
   "codemirror_mode": {
    "name": "ipython",
    "version": 3
   },
   "file_extension": ".py",
   "mimetype": "text/x-python",
   "name": "python",
   "nbconvert_exporter": "python",
   "pygments_lexer": "ipython3",
   "version": "3.11.5"
  }
 },
 "nbformat": 4,
 "nbformat_minor": 5
}
